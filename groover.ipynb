{
 "cells": [
  {
   "cell_type": "code",
   "execution_count": 23,
   "id": "79159304",
   "metadata": {},
   "outputs": [],
   "source": [
    "from qiskit import QuantumCircuit\n",
    "from qiskit import QuantumCircuit\n",
    "from qiskit.circuit.library import ZGate\n",
    "import math\n",
    "# def phase_inversion(n):\n",
    "#  n_controls = n\n",
    "#  total_qubits = n_controls + 1\n",
    "\n",
    "#  qc = QuantumCircuit(total_qubits)\n",
    "\n",
    "# # Apply CⁿZ gate: use 'ZGate().control(n_controls)'\n",
    "#  cz = ZGate().control(n_controls)\n",
    "#  qc.append(cz, list(range(total_qubits)))  # controls: 0 to n-1, target: last\n",
    "from qiskit import QuantumCircuit\n",
    "def grover_algo(n):\n",
    " n_controls = n\n",
    " N = 2 ** n\n",
    " num_iter=math.floor((math.pi / 4) * math.sqrt(N ))\n",
    " total_qubits = n_controls + 1\n",
    "\n",
    "\n",
    " oracle = QuantumCircuit(total_qubits, name='oracle')\n",
    " cz = ZGate().control(n_controls)\n",
    " oracle.append(cz, list(range(total_qubits)))\n",
    "\n",
    " oracle_df = QuantumCircuit(total_qubits, name='oracle_df')\n",
    " oracle_df.h(range(n+1))\n",
    "\n",
    "    # Step 2: Apply X to all qubits\n",
    " oracle_df.x(range(n+1))\n",
    " cz = ZGate().control(n_controls)\n",
    " oracle_df.append(cz, list(range(total_qubits)))\n",
    "    # Step 4: Apply X to all qubits\n",
    " oracle_df.x(range(n+1))\n",
    " oracle_df.h(range(n+1))\n",
    "\n",
    " \n",
    "\n",
    "\n",
    "\n",
    " grover_circ = QuantumCircuit(n+1,n)\n",
    " for i in range(n+1):\n",
    "  grover_circ.h(i)\n",
    " for i in range(num_iter): \n",
    "  grover_circ.compose(oracle, inplace=True)\n",
    "  grover_circ.compose(oracle_df, inplace=True)\n",
    "\n",
    " grover_circ.measure_all()\n",
    " return grover_circ\n",
    "grover_cc=grover_algo(4)\n",
    "\n",
    "# qc = QuantumCircuit(3)\n",
    "# qc.h([0,1,2])\n",
    "# qc.append(CCZGate(), [0, 1, 2])\n",
    "# qc.draw('mpl')\n",
    " "
   ]
  },
  {
   "cell_type": "code",
   "execution_count": 24,
   "id": "5e768479",
   "metadata": {},
   "outputs": [],
   "source": [
    "from qiskit_aer import Aer\n",
    "from qiskit import transpile\n",
    "backend = Aer.get_backend('aer_simulator')\n",
    "tcq = transpile(grover_cc, backend)\n",
    "job = backend.run(tcq, shots=1000)\n",
    "result=job.result().get_counts()\n"
   ]
  }
 ],
 "metadata": {
  "kernelspec": {
   "display_name": "qiskit_project",
   "language": "python",
   "name": "python3"
  },
  "language_info": {
   "codemirror_mode": {
    "name": "ipython",
    "version": 3
   },
   "file_extension": ".py",
   "mimetype": "text/x-python",
   "name": "python",
   "nbconvert_exporter": "python",
   "pygments_lexer": "ipython3",
   "version": "3.12.5"
  }
 },
 "nbformat": 4,
 "nbformat_minor": 5
}
